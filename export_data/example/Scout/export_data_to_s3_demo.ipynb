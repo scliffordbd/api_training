{
 "cells": [
  {
   "cell_type": "markdown",
   "metadata": {},
   "source": [
    "# Jupyter Notebook Demo"
   ]
  },
  {
   "cell_type": "markdown",
   "metadata": {},
   "source": [
    "## Imports"
   ]
  },
  {
   "cell_type": "code",
   "execution_count": null,
   "metadata": {},
   "outputs": [],
   "source": [
    "import boto3\n",
    "import io\n",
    "import matplotlib.image as mpimg\n",
    "import matplotlib.pyplot as plt\n",
    "import numpy as np\n",
    "import time\n",
    "import urllib3\n",
    "\n",
    "from bosdyn.scout.client import ScoutClient\n",
    "\n",
    "urllib3.disable_warnings(urllib3.exceptions.InsecureRequestWarning)"
   ]
  },
  {
   "cell_type": "markdown",
   "metadata": {},
   "source": [
    "## Save Images Locally"
   ]
  },
  {
   "cell_type": "code",
   "execution_count": null,
   "metadata": {},
   "outputs": [],
   "source": [
    "def save_jpg_image_local(image, filename):\n",
    "    img = mpimg.imread(io.BytesIO(image), format='jpg')\n",
    "    plt.imshow(img)\n",
    "    plt.axis('off')  # Hide x and y axes\n",
    "    plt.savefig(filename)\n",
    "    # plt.show()"
   ]
  },
  {
   "cell_type": "code",
   "execution_count": null,
   "metadata": {},
   "outputs": [],
   "source": [
    "def save_raw_image_local(image, filename):\n",
    "    # Assuming Spot CAM+IR Thermal image\n",
    "    img = np.frombuffer(image, dtype='uint16')\n",
    "    height = 512\n",
    "    width = 640\n",
    "    data = img.reshape((height, width))\n",
    "    plt_image = list(data)\n",
    "    plt.imshow(plt_image, plt.cm.inferno)\n",
    "    plt.axis('off')  # Hide x and y axes\n",
    "    plt.savefig(filename)\n",
    "    # plt.show()"
   ]
  },
  {
   "cell_type": "markdown",
   "metadata": {},
   "source": [
    "## Get Image from Scout"
   ]
  },
  {
   "cell_type": "code",
   "execution_count": null,
   "metadata": {},
   "outputs": [],
   "source": [
    "def get_image_from_scout(scout_client, filename):\n",
    "    params = {'missionName':'ThermalMissionExportData'}\n",
    "    # Get recent run captures\n",
    "    run_captures_response = scout_client.get_run_captures(params=params)\n",
    "\n",
    "    # Get and format the image url\n",
    "    run_captures = run_captures_response.json()\n",
    "\n",
    "    url = run_captures.get('resources')[0].get('dataUrl')\n",
    "    full_url = f'https://{scout_client._hostname}{url}'.replace(' ', '%20')\n",
    "\n",
    "    # Get the image response\n",
    "    get_image_response = scout_client.get_image(full_url)\n",
    "\n",
    "    # Create and save the image from the data in Scout\n",
    "    image_data = get_image_response.data\n",
    "    if url.endswith('.raw'):\n",
    "        save_raw_image_local(image_data, filename)\n",
    "    else:\n",
    "        save_jpg_image_local(image_data, filename)"
   ]
  },
  {
   "cell_type": "markdown",
   "metadata": {},
   "source": [
    "## Upload Data"
   ]
  },
  {
   "cell_type": "code",
   "execution_count": null,
   "metadata": {},
   "outputs": [],
   "source": [
    "def upload_to_aws(source_filename, bucket_name, destination_filename):\n",
    "    s3 = boto3.client('s3')\n",
    "    s3.upload_file(source_filename, bucket_name, destination_filename)"
   ]
  },
  {
   "cell_type": "markdown",
   "metadata": {},
   "source": [
    "## Driver Code"
   ]
  },
  {
   "cell_type": "code",
   "execution_count": null,
   "metadata": {},
   "outputs": [],
   "source": [
    "def main():\n",
    "    hostname = '10.202.101.3'  # Our Scout Instance\n",
    "    bucket_name = 'export-data-training-bucket'  # My s3 bucket\n",
    "    filename = f'export-data-{time.strftime(\"%Y%m%d-%H%M%S\")}.jpg'\n",
    "\n",
    "    scout_client = ScoutClient(hostname=hostname, verify=False)\n",
    "    scout_client.authenticate_with_password()\n",
    "\n",
    "    get_image_from_scout(scout_client, filename)\n",
    "    upload_to_aws(filename, bucket_name, filename)\n",
    "\n",
    "main()"
   ]
  },
  {
   "cell_type": "code",
   "execution_count": null,
   "metadata": {},
   "outputs": [],
   "source": []
  }
 ],
 "metadata": {
  "kernelspec": {
   "display_name": "3.3.2",
   "language": "python",
   "name": "python3"
  },
  "language_info": {
   "codemirror_mode": {
    "name": "ipython",
    "version": 3
   },
   "file_extension": ".py",
   "mimetype": "text/x-python",
   "name": "python",
   "nbconvert_exporter": "python",
   "pygments_lexer": "ipython3",
   "version": "3.10.12"
  },
  "orig_nbformat": 4
 },
 "nbformat": 4,
 "nbformat_minor": 2
}
