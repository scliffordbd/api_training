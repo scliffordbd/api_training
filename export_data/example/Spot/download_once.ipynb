{
 "cells": [
  {
   "cell_type": "markdown",
   "metadata": {},
   "source": [
    "# Simple Example\n",
    "\n",
    "This example will download data from Spot to your computer. It will download data that was recorded in the number of seconds specified in SECONDS. It will be in a zip file in the directory specified in DIRECTORY. "
   ]
  },
  {
   "cell_type": "markdown",
   "metadata": {},
   "source": [
    "## Imports"
   ]
  },
  {
   "cell_type": "code",
   "execution_count": null,
   "metadata": {},
   "outputs": [],
   "source": [
    "import time\n",
    "\n",
    "import bosdyn.client\n",
    "import bosdyn.client.util\n",
    "from bosdyn.client.data_acquisition_helpers import (download_data_REST, make_time_query_params)"
   ]
  },
  {
   "cell_type": "markdown",
   "metadata": {},
   "source": [
    "## Variables"
   ]
  },
  {
   "cell_type": "code",
   "execution_count": null,
   "metadata": {},
   "outputs": [],
   "source": [
    "HOSTNAME = '192.168.80.3'\n",
    "DESTINATION_FOLDER = '.'\n",
    "SECONDS = 600"
   ]
  },
  {
   "cell_type": "markdown",
   "metadata": {},
   "source": [
    "## Create Robot"
   ]
  },
  {
   "cell_type": "code",
   "execution_count": null,
   "metadata": {},
   "outputs": [],
   "source": [
    "sdk = bosdyn.client.create_standard_sdk('DownloadDataOnce')\n",
    "robot = sdk.create_robot(HOSTNAME)\n",
    "bosdyn.client.util.authenticate(robot)\n",
    "robot.time_sync.wait_for_sync()"
   ]
  },
  {
   "cell_type": "markdown",
   "metadata": {},
   "source": [
    "## Download Data"
   ]
  },
  {
   "cell_type": "code",
   "execution_count": null,
   "metadata": {},
   "outputs": [],
   "source": [
    "current_time = time.time()\n",
    "query_params = make_time_query_params(current_time - SECONDS, current_time, robot)\n",
    "\n",
    "download_data_REST(query_params, HOSTNAME, robot.user_token, destination_folder=DESTINATION_FOLDER)"
   ]
  },
  {
   "cell_type": "markdown",
   "metadata": {},
   "source": [
    "Now you can do what you'd like with the data. A folder called REST was created in the DESTINATION_FOLDER. The folder contains a compressed folder with your data."
   ]
  }
 ],
 "metadata": {
  "language_info": {
   "name": "python"
  }
 },
 "nbformat": 4,
 "nbformat_minor": 2
}
