{
 "cells": [
  {
   "cell_type": "markdown",
   "metadata": {},
   "source": [
    "# Export Data Exercise"
   ]
  },
  {
   "cell_type": "markdown",
   "metadata": {},
   "source": [
    "## Part 0 - Setup\n",
    "\n",
    "Read and run the following code cells. Do not edit."
   ]
  },
  {
   "cell_type": "markdown",
   "metadata": {},
   "source": [
    "Import modules"
   ]
  },
  {
   "cell_type": "code",
   "execution_count": null,
   "metadata": {},
   "outputs": [],
   "source": [
    "import time\n",
    "\n",
    "import bosdyn.client\n",
    "import bosdyn.client.util\n",
    "from bosdyn.client.data_acquisition_helpers import (download_data_REST, make_time_query_params,\n",
    "                                                    make_time_query_params_from_group_name)"
   ]
  },
  {
   "cell_type": "markdown",
   "metadata": {},
   "source": [
    "Setup robot"
   ]
  },
  {
   "cell_type": "code",
   "execution_count": null,
   "metadata": {},
   "outputs": [],
   "source": [
    "HOSTNAME = '192.168.80.3'\n",
    "DESTINATION_FOLDER = '.'\n",
    "\n",
    "sdk = bosdyn.client.create_standard_sdk('ExportDataExercise')\n",
    "robot = sdk.create_robot(HOSTNAME)\n",
    "bosdyn.client.util.authenticate(robot)\n",
    "robot.time_sync.wait_for_sync()"
   ]
  },
  {
   "cell_type": "markdown",
   "metadata": {},
   "source": [
    "## Part 1\n",
    "\n",
    "Use the `make_time_query_params` and `download_data_REST` methods to download data from the last hour."
   ]
  },
  {
   "cell_type": "code",
   "execution_count": null,
   "metadata": {},
   "outputs": [],
   "source": [
    "current_time = time.time()\n",
    "\n",
    "SECONDS = 3600\n",
    "query_params = make_time_query_params(current_time - SECONDS, current_time, robot)\n",
    "download_data_REST(query_params, HOSTNAME, robot.user_token, destination_folder=DESTINATION_FOLDER)\n"
   ]
  },
  {
   "cell_type": "markdown",
   "metadata": {},
   "source": [
    "## Part 2\n",
    "\n",
    "Download the **images** captured in the last hour. You will need to use the following methods:\n",
    "\n",
    "- `make_time_query_params`\n",
    "- `list_stored_images`\n",
    "- `make_time_query_params_from_group_name`\n",
    "- `download_data_REST`"
   ]
  },
  {
   "cell_type": "code",
   "execution_count": null,
   "metadata": {},
   "outputs": [],
   "source": [
    "daq_store_client = robot.ensure_client(\n",
    "            bosdyn.client.data_acquisition_store.DataAcquisitionStoreClient.default_service_name)\n",
    "current_time = time.time()\n",
    "\n",
    "query_params = None\n",
    "query_params = make_time_query_params(current_time - SECONDS, current_time, robot)\n",
    "\n",
    "images = daq_store_client.list_stored_images(query_params)\n",
    "if len(images) > 0:\n",
    "    # Get the group_name from one of the actions we found\n",
    "    group_name = images[0].action_id.group_name\n",
    "    group_query_params = make_time_query_params_from_group_name(group_name, daq_store_client)\n",
    "    success = download_data_REST(group_query_params, HOSTNAME, robot.user_token,\n",
    "                destination_folder=DESTINATION_FOLDER)"
   ]
  }
 ],
 "metadata": {
  "kernelspec": {
   "display_name": ".venv",
   "language": "python",
   "name": "python3"
  },
  "language_info": {
   "codemirror_mode": {
    "name": "ipython",
    "version": 3
   },
   "file_extension": ".py",
   "mimetype": "text/x-python",
   "name": "python",
   "nbconvert_exporter": "python",
   "pygments_lexer": "ipython3",
   "version": "3.10.12"
  }
 },
 "nbformat": 4,
 "nbformat_minor": 2
}
