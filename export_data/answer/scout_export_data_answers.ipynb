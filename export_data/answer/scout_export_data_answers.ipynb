{
 "cells": [
  {
   "cell_type": "markdown",
   "metadata": {},
   "source": [
    "# Export Data Exercise Answer Key"
   ]
  },
  {
   "cell_type": "code",
   "execution_count": null,
   "metadata": {},
   "outputs": [],
   "source": [
    "import boto3\n",
    "import time\n",
    "import urllib3\n",
    "\n",
    "from bosdyn.scout.client import ScoutClient\n",
    "\n",
    "# We do not have an SSL Certificate, so ignore these warnings\n",
    "urllib3.disable_warnings(urllib3.exceptions.InsecureRequestWarning)\n",
    "\n",
    "HOSTNAME = '10.202.101.3'\n",
    "USERNAME = 'student'\n",
    "PASSWORD = 'studentuser123'\n",
    "\n",
    "MISSION = 'ThermalMissionExportData'\n",
    "CHANNEL = 'thermal-inspection_advanced-anomaly_isotherm_image'\n",
    "WALL = 'WallSideHeater'\n",
    "ROOM = 'RoomSideHeater'\n",
    "DAY = time.strftime('%Y%m%d')\n",
    "BUCKET_NAME = 'export-data-training-bucket'\n",
    "\n",
    "scout_client = ScoutClient(hostname=HOSTNAME, verify=False)\n",
    "scout_client.authenticate_with_password(username=USERNAME, password=PASSWORD)\n",
    "\n",
    "print('Scout IP:', scout_client._hostname)"
   ]
  },
  {
   "cell_type": "code",
   "execution_count": null,
   "metadata": {},
   "outputs": [],
   "source": [
    "get_robots_response = scout_client.get_robots()\n",
    "\n",
    "if get_robots_response.ok:\n",
    "    all_robots = get_robots_response.json()\n",
    "    for robot in all_robots:\n",
    "        robot_hostname = robot.pop('hostname', None)\n",
    "        if robot_hostname:\n",
    "            print(robot_hostname)\n",
    "else:\n",
    "    print('get_robots() failed')\n",
    "    print(get_robots_response.text)"
   ]
  },
  {
   "cell_type": "markdown",
   "metadata": {},
   "source": [
    "### Task 1"
   ]
  },
  {
   "cell_type": "code",
   "execution_count": null,
   "metadata": {},
   "outputs": [],
   "source": [
    "get_runs_response = scout_client.get_runs()\n",
    "\n",
    "if get_runs_response.ok:\n",
    "    runs_json = get_runs_response.json()\n",
    "    runs = runs_json.get('resources') \n",
    "    for run in runs:\n",
    "        print(run)\n",
    "else:\n",
    "    print('get_runs() failed')\n",
    "    print(get_runs_response.text)"
   ]
  },
  {
   "cell_type": "markdown",
   "metadata": {},
   "source": [
    "### Task 2"
   ]
  },
  {
   "cell_type": "code",
   "execution_count": null,
   "metadata": {},
   "outputs": [],
   "source": [
    "get_runs_response = scout_client.get_runs(params={'missions': MISSION})\n",
    "\n",
    "if get_runs_response.ok:\n",
    "    get_runs_json = get_runs_response.json()\n",
    "    runs = get_runs_json.get('resources')\n",
    "    for run in runs:\n",
    "        print(run)\n",
    "else:\n",
    "    print('get_runs() failed')\n",
    "    print(get_runs_response.text)"
   ]
  },
  {
   "cell_type": "markdown",
   "metadata": {},
   "source": [
    "### Task 3"
   ]
  },
  {
   "cell_type": "code",
   "execution_count": null,
   "metadata": {},
   "outputs": [],
   "source": [
    "print(WALL)\n",
    "\n",
    "wall_heater_params = {\n",
    "    'missionName': MISSION,\n",
    "    'actionName': WALL,\n",
    "    'channelName': CHANNEL\n",
    "}\n",
    "get_run_captures_response = scout_client.get_run_captures(params=wall_heater_params)\n",
    "\n",
    "if get_run_captures_response.ok:\n",
    "    run_captures_json = get_run_captures_response.json()\n",
    "    run_captures = run_captures_json.get('resources')\n",
    "    for capture in run_captures:\n",
    "        time = capture.get('time')\n",
    "\n",
    "        key_results = capture.get('keyResults')\n",
    "        max_temp = key_results[0].get('value')\n",
    "        min_temp = key_results[1].get('value')\n",
    "        \n",
    "        print(f'{time}\\t{max_temp}\\t{min_temp}')\n",
    "else:\n",
    "    print('get_run_captures() failed')\n",
    "    print(get_run_captures_response.text)"
   ]
  },
  {
   "cell_type": "code",
   "execution_count": null,
   "metadata": {},
   "outputs": [],
   "source": [
    "room_heater_params = {\n",
    "    'missionName': MISSION,\n",
    "    'actionName': ROOM,\n",
    "    'channelName': CHANNEL\n",
    "}\n",
    "get_run_captures_response = scout_client.get_run_captures(params=room_heater_params)\n",
    "\n",
    "if get_run_captures_response.ok:\n",
    "    run_captures_json = get_run_captures_response.json()\n",
    "    run_captures = run_captures_json.get('resources')\n",
    "    for capture in run_captures:\n",
    "        time = capture.get('time')\n",
    "\n",
    "        key_results = capture.get('keyResults')\n",
    "        max_temp = key_results[0].get('value')\n",
    "        min_temp = key_results[1].get('value')\n",
    "        \n",
    "        print(f'{time}\\t{max_temp}\\t{min_temp}')\n",
    "else:\n",
    "    print('get_run_captures() failed')\n",
    "    print(get_run_captures_response.text)"
   ]
  },
  {
   "cell_type": "markdown",
   "metadata": {},
   "source": [
    "### Task 4"
   ]
  },
  {
   "cell_type": "code",
   "execution_count": null,
   "metadata": {},
   "outputs": [],
   "source": [
    "def get_thermal_data(action):\n",
    "    data = []\n",
    "\n",
    "    res = scout_client.get_run_captures(params={\n",
    "        'missionName': MISSION,\n",
    "        'actionName': action,\n",
    "        'channelName': CHANNEL\n",
    "    })\n",
    "\n",
    "    if res.ok:\n",
    "        captures = res.json().get('resources')\n",
    "        for capture in captures:\n",
    "            time = capture.get('time')\n",
    "            key_results = capture.get('keyResults')\n",
    "            max_temp = key_results[0].get('value')\n",
    "            min_temp = key_results[1].get('value')\n",
    "            data.append([time, max_temp, min_temp])\n",
    "    else:\n",
    "        print('get_run_captures() failed')\n",
    "        print(get_run_captures_response.text)\n",
    "        \n",
    "    return data\n",
    "\n",
    "\n",
    "def write_locally(data, filename):\n",
    "    with open(f'{filename}', 'w') as out:\n",
    "        for line in data:\n",
    "            out.write(f'{line[0]},{line[1]},{line[2]}\\n')"
   ]
  },
  {
   "cell_type": "code",
   "execution_count": null,
   "metadata": {},
   "outputs": [],
   "source": [
    "def upload_to_aws(source_filename, bucket_name, destination_filename):\n",
    "    s3 = boto3.client('s3')\n",
    "    s3.upload_file(source_filename, bucket_name, destination_filename)"
   ]
  },
  {
   "cell_type": "code",
   "execution_count": null,
   "metadata": {},
   "outputs": [],
   "source": [
    "NAME = 'ShamusClifford'\n",
    "\n",
    "wall_data = get_thermal_data(WALL)\n",
    "wall_filename = f'{DAY}-{WALL}-{NAME}.csv'\n",
    "room_data = get_thermal_data(ROOM)\n",
    "room_filename = f'{DAY}-{ROOM}-{NAME}.csv'\n",
    "\n",
    "write_locally(wall_data, wall_filename)\n",
    "write_locally(room_data,  room_filename)\n",
    "\n",
    "upload_to_aws(source_filename=wall_filename, bucket_name=BUCKET_NAME, destination_filename=f'{wall_filename}')\n",
    "upload_to_aws(source_filename=room_filename, bucket_name=BUCKET_NAME, destination_filename=f'{room_filename}')"
   ]
  }
 ],
 "metadata": {
  "kernelspec": {
   "display_name": "Python 3",
   "language": "python",
   "name": "python3"
  },
  "language_info": {
   "codemirror_mode": {
    "name": "ipython",
    "version": 3
   },
   "file_extension": ".py",
   "mimetype": "text/x-python",
   "name": "python",
   "nbconvert_exporter": "python",
   "pygments_lexer": "ipython3",
   "version": "3.10.12"
  },
  "orig_nbformat": 4
 },
 "nbformat": 4,
 "nbformat_minor": 2
}
