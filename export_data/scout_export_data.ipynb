{
 "cells": [
  {
   "cell_type": "markdown",
   "metadata": {},
   "source": [
    "# Export Data Exercise\n",
    "\n",
    "In this exercise, you will use a python notebook to export data using the Scout SDK."
   ]
  },
  {
   "cell_type": "markdown",
   "metadata": {},
   "source": [
    "## Is this thing on?\n",
    "\n",
    "Test to make sure your notebook is working. \n",
    "\n",
    "- Click the code cell below\n",
    "- Click the play button to the left of the cell to execute its code\n",
    "- You should see *testing...testing...is this thing on?* printed below the cell"
   ]
  },
  {
   "cell_type": "code",
   "execution_count": null,
   "metadata": {},
   "outputs": [],
   "source": [
    "print('testing...testing...is this thing on?')"
   ]
  },
  {
   "cell_type": "markdown",
   "metadata": {},
   "source": [
    "## Imports\n",
    "\n",
    "Now we're going to import some modules we will use throughout this exercise. Execute the cell below to import the modules."
   ]
  },
  {
   "cell_type": "code",
   "execution_count": null,
   "metadata": {},
   "outputs": [],
   "source": [
    "#####################################\n",
    "## RUN BUT DO NOT CHANGE THIS CELL ##\n",
    "#####################################\n",
    "\n",
    "import boto3\n",
    "import time\n",
    "import urllib3\n",
    "\n",
    "from bosdyn.scout.client import ScoutClient\n",
    "\n",
    "# We do not have an SSL Certificate, so ignore these warnings\n",
    "urllib3.disable_warnings(urllib3.exceptions.InsecureRequestWarning)\n",
    "\n",
    "# These variables will help connect to and authenticate with Scout\n",
    "HOSTNAME = '10.202.101.3'\n",
    "USERNAME = 'student'\n",
    "PASSWORD = 'studentuser123'\n",
    "\n",
    "# These variables will help us when getting captured data\n",
    "MISSION = 'ThermalMissionExportData'\n",
    "CHANNEL = 'thermal-inspection_advanced-anomaly_isotherm_image'\n",
    "WALL = 'WallSideHeater'\n",
    "ROOM = 'RoomSideHeater'\n",
    "\n",
    "# These variables will help us when we write data to AWS\n",
    "DAY = time.strftime('%Y%m%d')\n",
    "BUCKET_NAME = 'export-data-training-bucket'"
   ]
  },
  {
   "cell_type": "markdown",
   "metadata": {},
   "source": [
    "## Setting up the ScoutClient\n",
    "\n",
    "Next we will set up our ScoutClient. We created variables for Scout's hostname, username, and password. We pass the username and password here to `authenticate_with_password()`. We did not have to. If we did not, we would have been prompted for a username and password. Additionally, we could have created environment variables `BOSDYN_SCOUT_CLIENT_USERNAME` and `BOSDYN_SCOUT_CLIENT_PASSWORD`.\n",
    "\n",
    "After executing the following cell, you should see `10.202.101.3` printed. That is the IP address of our Scout instance."
   ]
  },
  {
   "cell_type": "code",
   "execution_count": null,
   "metadata": {},
   "outputs": [],
   "source": [
    "#####################################\n",
    "## RUN BUT DO NOT CHANGE THIS CELL ##\n",
    "#####################################\n",
    "\n",
    "scout_client = ScoutClient(hostname=HOSTNAME, verify=False)\n",
    "scout_client.authenticate_with_password(username=USERNAME, password=PASSWORD)\n",
    "\n",
    "print('Scout IP:', scout_client._hostname)"
   ]
  },
  {
   "cell_type": "markdown",
   "metadata": {},
   "source": [
    "## View the Robots on Scout\n",
    "\n",
    "Here's an example of using the Scout SDK. We use our ScoutClient to call get_robots(). We get a requests response.\n",
    "\n",
    "Then, we check that the response came back ok. If it did, we then get the JSON data from the response and loop through all the robots to print each hostname."
   ]
  },
  {
   "cell_type": "code",
   "execution_count": null,
   "metadata": {},
   "outputs": [],
   "source": [
    "#####################################\n",
    "## RUN BUT DO NOT CHANGE THIS CELL ##\n",
    "#####################################\n",
    "\n",
    "get_robots_response = scout_client.get_robots()\n",
    "\n",
    "if get_robots_response.ok:\n",
    "    all_robots = get_robots_response.json()\n",
    "    for robot in all_robots:\n",
    "        robot_hostname = robot.pop('hostname', None)\n",
    "        if robot_hostname:\n",
    "            print(robot_hostname)\n",
    "else:\n",
    "    print('get_robots() failed')\n",
    "    print(get_robots_response.text)"
   ]
  },
  {
   "cell_type": "markdown",
   "metadata": {},
   "source": [
    "## View the Most Recent Runs\n",
    "\n",
    "Let's view the most recent runs in Scout. A run is a period of mission playback or teleoperation. Use the get_runs() function to get the data.\n",
    "\n",
    "The schema is:\n",
    "\n",
    "```\n",
    "{\n",
    "    limit       integer\n",
    "    offset      integer\n",
    "    total       integer\n",
    "    resources   [\n",
    "                  Run {\n",
    "                    ...\n",
    "                  }\n",
    "                ]\n",
    "}\n",
    "```\n",
    "\n",
    "You can view more in the Scout Web API."
   ]
  },
  {
   "cell_type": "markdown",
   "metadata": {},
   "source": [
    "### Task 1\n",
    "\n",
    "Print the most recent runs using get_runs().\n",
    "\n",
    "Use the get_robots() example above to guide you."
   ]
  },
  {
   "cell_type": "code",
   "execution_count": null,
   "metadata": {},
   "outputs": [],
   "source": [
    "get_runs_response = # YOUR CODE HERE\n",
    "\n",
    "if get_runs_response.ok:\n",
    "    runs_json = # YOUR CODE HERE\n",
    "\n",
    "    ############################################\n",
    "    ## DO NOT CHANGE THE NEXT 3 LINES OF CODE ##\n",
    "    ############################################\n",
    "    runs = runs_json.get('resources') \n",
    "    for run in runs:\n",
    "        print(run)"
   ]
  },
  {
   "cell_type": "markdown",
   "metadata": {},
   "source": [
    "### Task 2\n",
    "\n",
    "Print the most recent runs with the mission name 'ExportDataThermalMission'.\n",
    "\n",
    "Use the params argument to get_runs() to filter for the mission name. Look at the Scout Web API to identify the correct parameter name."
   ]
  },
  {
   "cell_type": "code",
   "execution_count": null,
   "metadata": {},
   "outputs": [],
   "source": [
    "####################\n",
    "## YOUR CODE HERE ##\n",
    "####################\n",
    "\n",
    "\n"
   ]
  },
  {
   "cell_type": "markdown",
   "metadata": {},
   "source": [
    "## View Action Data\n",
    "\n",
    "Our goal is to look at the temperature of the reptile heaters during our missions.\n",
    "\n",
    "`get_run_events()` and `get_run_captures()` will get us the thermal data.\n",
    "\n",
    "`get_run_events()` returns more data, for our use case, the additional data is not necessary, so we will use `get_run_captures()`.\n",
    "\n",
    "The schema for get_run_captures() is:\n",
    "\n",
    "```\n",
    "{\n",
    "    limit       integer\n",
    "    offset      integer\n",
    "    total       integer\n",
    "    resources   [\n",
    "                  RunCapture {\n",
    "                    ...\n",
    "                    keyResults []\n",
    "                    ...\n",
    "                  }\n",
    "                ]\n",
    "}\n",
    "```\n",
    "\n",
    "Thermal data is stored in `keyResults`. A key result for our thermal data is:\n",
    "\n",
    "```\n",
    "{\n",
    "    \"roi\": \"Region 1\",\n",
    "    \"name\": \"Max Temperature\",\n",
    "    \"units\": \"K\",\n",
    "    \"value\": <float>\n",
    "},\n",
    "{\n",
    "    \"roi\": \"Region 1\",\n",
    "    \"name\": \"Min Temperature\",\n",
    "    \"units\": \"K\",\n",
    "    \"value\": <float>\n",
    "}\n",
    "```\n",
    "\n",
    "We are interested in getting the minimum and maximum temperatures from the value fields."
   ]
  },
  {
   "cell_type": "markdown",
   "metadata": {},
   "source": [
    "### Task 3\n",
    "\n",
    "Print the **time**, **Min Temperature**, **Max Temperature** for each thermal data capture.\n",
    "\n",
    "Click this link to see the [run_captures data](https://training.lab.bosdyn.internal/api/v0/run_captures/).\n",
    "\n",
    "There are two code blocks below. The first is partially filled out to help you get the data for the reptile heater closer to the wall. The second code block is empty and where you should place your code for the room side reptile heater. The code will be very similar to the wall side reptile heater."
   ]
  },
  {
   "cell_type": "code",
   "execution_count": null,
   "metadata": {},
   "outputs": [],
   "source": [
    "##########################################################\n",
    "## USE THIS CODE BLOCK FOR THE WALL SIDE REPTILE HEATER ##\n",
    "##########################################################\n",
    "\n",
    "print(WALL)\n",
    "\n",
    "wall_heater_params = {\n",
    "    'missionName': 'ExportDataThermalMission',\n",
    "    'actionName': 'WallReptileHeater',\n",
    "    'channelName': 'thermal-inspection_advanced-anomaly_isotherm_image'\n",
    "}\n",
    "get_run_captures_response = # YOUR CODE HERE\n",
    "\n",
    "if get_run_captures_response.ok:\n",
    "    run_captures_json = # YOUR CODE HERE\n",
    "    run_captures = # YOUR CODE HERE\n",
    "\n",
    "    for capture in run_captures:\n",
    "        time = capture.get('time')\n",
    "\n",
    "        key_results = # YOUR CODE HERE\n",
    "        max_temp = key_results[0].get('value')\n",
    "        min_temp = key_results[1].get('value')\n",
    "        \n",
    "        print(f'{time}\\t{max_temp}\\t{min_temp}')"
   ]
  },
  {
   "cell_type": "code",
   "execution_count": null,
   "metadata": {},
   "outputs": [],
   "source": [
    "##########################################################\n",
    "## USE THIS CODE BLOCK FOR THE ROOM SIDE REPTILE HEATER ##\n",
    "##########################################################\n",
    "\n",
    "print('Room Side Reptile Heater')\n",
    "\n",
    "####################\n",
    "## YOUR CODE HERE ##\n",
    "####################\n"
   ]
  },
  {
   "cell_type": "markdown",
   "metadata": {},
   "source": [
    "## Export Data to AWS\n",
    "\n",
    "Now that we can access the data that we need, we can export it to some external source. We will be exporting our data to an S3 bucket.\n",
    "\n",
    "We will get the thermal data again for our two reptile heaters. This time, instead of just printing the data to the screen, we will write it to a file and then upload that file to S3.\n",
    "\n",
    "You've already done the hard part, getting the data out of Scout. We wrote a couple of helper functions to get the thermal data and write it to a file on your computer.\n",
    "\n",
    "`get_thermal_data()` does the work of getting the data from Scout and returning the thermal data. It does so for a specified mission and action.\n",
    "\n",
    "`write_locally()` takes the data returned from `get_thermal_data()` and writes it to a CSV file."
   ]
  },
  {
   "cell_type": "code",
   "execution_count": null,
   "metadata": {},
   "outputs": [],
   "source": [
    "#####################################\n",
    "## RUN BUT DO NOT CHANGE THIS CELL ##\n",
    "#####################################\n",
    "\n",
    "def get_thermal_data(action):\n",
    "    data = []\n",
    "\n",
    "    res = scout_client.get_run_captures(params={\n",
    "        'missionName': MISSION,\n",
    "        'actionName': action,\n",
    "        'channelName': CHANNEL\n",
    "    })\n",
    "\n",
    "    if res.ok:\n",
    "        captures = res.json().get('resources')\n",
    "        for capture in captures:\n",
    "            time = capture.get('time')\n",
    "            key_results = capture.get('keyResults')\n",
    "            max_temp = key_results[0].get('value')\n",
    "            min_temp = key_results[1].get('value')\n",
    "            data.append([time, max_temp, min_temp])\n",
    "    return data\n",
    "\n",
    "\n",
    "def write_locally(data, filename):\n",
    "    with open(f'{filename}', 'w') as out:\n",
    "        for line in data:\n",
    "            out.write(f'{line[0]},{line[1]},{line[2]}\\n')"
   ]
  },
  {
   "cell_type": "markdown",
   "metadata": {},
   "source": [
    "### Task 4\n",
    "\n",
    "- In the first code cell, complete the `upload_to_aws()` function. This function will be used twice, once for each reptile heater.\n",
    "\n",
    "- In the final code cell, call the `upload_to_aws()` function twice, once for each reptile heater. When you upload to AWS, the filename should be unique. Make sure you fill out the `NAME` variable in the final code cell to ensure a unique filename.\n",
    "\n",
    "- Use the variable `BUCKET_NAME` when specifying the S3 bucket."
   ]
  },
  {
   "cell_type": "code",
   "execution_count": null,
   "metadata": {},
   "outputs": [],
   "source": [
    "def upload_to_aws(source_filename, bucket_name, destination_filename):\n",
    "    ####################\n",
    "    ## YOUR CODE HERE ##\n",
    "    ####################"
   ]
  },
  {
   "cell_type": "code",
   "execution_count": null,
   "metadata": {},
   "outputs": [],
   "source": [
    "##########################################\n",
    "## WRITE YOUR NAME IN THE NAME VARIABLE ##\n",
    "##########################################\n",
    "NAME = ''\n",
    "\n",
    "# Get the thermal data and filenames\n",
    "wall_data = get_thermal_data(WALL)\n",
    "wall_filename = f'{DAY}-{WALL}-{NAME}.csv'\n",
    "room_data = get_thermal_data(ROOM)\n",
    "room_filename = f'{DAY}-{ROOM}-{NAME}.csv'\n",
    "\n",
    "# Write the files locally\n",
    "write_locally(wall_data, wall_filename)\n",
    "write_locally(room_data,  room_filename)\n",
    "\n",
    "####################\n",
    "## YOUR CODE HERE ##\n",
    "####################\n"
   ]
  }
 ],
 "metadata": {
  "kernelspec": {
   "display_name": "Python 3",
   "language": "python",
   "name": "python3"
  },
  "language_info": {
   "codemirror_mode": {
    "name": "ipython",
    "version": 3
   },
   "file_extension": ".py",
   "mimetype": "text/x-python",
   "name": "python",
   "nbconvert_exporter": "python",
   "pygments_lexer": "ipython3",
   "version": "3.10.12"
  },
  "orig_nbformat": 4
 },
 "nbformat": 4,
 "nbformat_minor": 2
}
