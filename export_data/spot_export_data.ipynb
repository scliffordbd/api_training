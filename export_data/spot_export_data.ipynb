{
 "cells": [
  {
   "cell_type": "markdown",
   "metadata": {},
   "source": [
    "# Export Data Exercise"
   ]
  },
  {
   "cell_type": "markdown",
   "metadata": {},
   "source": [
    "## Part 0 - Setup\n",
    "\n",
    "Read and run the following code cells. Do not edit."
   ]
  },
  {
   "cell_type": "markdown",
   "metadata": {},
   "source": [
    "Import modules"
   ]
  },
  {
   "cell_type": "code",
   "execution_count": null,
   "metadata": {},
   "outputs": [],
   "source": [
    "import time\n",
    "\n",
    "import bosdyn.client\n",
    "import bosdyn.client.util\n",
    "from bosdyn.client.data_acquisition_helpers import (download_data_REST, make_time_query_params,\n",
    "                                                    make_time_query_params_from_group_name)"
   ]
  },
  {
   "cell_type": "markdown",
   "metadata": {},
   "source": [
    "Setup robot"
   ]
  },
  {
   "cell_type": "code",
   "execution_count": null,
   "metadata": {},
   "outputs": [],
   "source": [
    "HOSTNAME = '192.168.80.3'\n",
    "DESTINATION_FOLDER = '.'\n",
    "\n",
    "sdk = bosdyn.client.create_standard_sdk('ExportDataExercise')\n",
    "robot = sdk.create_robot(HOSTNAME)\n",
    "bosdyn.client.util.authenticate(robot)\n",
    "robot.time_sync.wait_for_sync()"
   ]
  },
  {
   "cell_type": "markdown",
   "metadata": {},
   "source": [
    "## Part 1\n",
    "\n",
    "Use the `make_time_query_params` and `download_data_REST` methods to download data from the last hour."
   ]
  },
  {
   "cell_type": "code",
   "execution_count": null,
   "metadata": {},
   "outputs": [],
   "source": [
    "current_time = time.time()\n",
    "\n",
    "##################\n",
    "# YOUR CODE HERE #\n",
    "##################\n",
    "\n",
    "\n"
   ]
  },
  {
   "cell_type": "markdown",
   "metadata": {},
   "source": [
    "## Part 2\n",
    "\n",
    "Download the **images** captured in the last hour. You will need to use the following methods:\n",
    "\n",
    "- `make_time_query_params`\n",
    "- `list_stored_images`\n",
    "- `make_time_query_params_from_group_name`\n",
    "- `download_data_REST`"
   ]
  },
  {
   "cell_type": "code",
   "execution_count": null,
   "metadata": {},
   "outputs": [],
   "source": [
    "daq_store_client = robot.ensure_client(\n",
    "            bosdyn.client.data_acquisition_store.DataAcquisitionStoreClient.default_service_name)\n",
    "current_time = time.time()\n",
    "\n",
    "##################\n",
    "# YOUR CODE HERE #\n",
    "##################\n",
    "\n",
    "\n"
   ]
  },
  {
   "cell_type": "markdown",
   "metadata": {},
   "source": [
    "## Part 3\n",
    "\n",
    "Retrieve the alerts from the last hour. If there were no alerts, print 'NO ALERTS', otherwise, print 'ALERT' and then the alert text."
   ]
  },
  {
   "cell_type": "code",
   "execution_count": null,
   "metadata": {},
   "outputs": [],
   "source": [
    "current_time = time.time()\n",
    "\n",
    "##################\n",
    "# YOUR CODE HERE #\n",
    "##################\n",
    "\n",
    "\n"
   ]
  }
 ],
 "metadata": {
  "language_info": {
   "name": "python"
  }
 },
 "nbformat": 4,
 "nbformat_minor": 2
}
